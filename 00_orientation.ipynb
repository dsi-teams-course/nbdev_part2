{
 "cells": [
  {
   "cell_type": "code",
   "execution_count": null,
   "metadata": {},
   "outputs": [],
   "source": [
    "# all_no_test"
   ]
  },
  {
   "cell_type": "markdown",
   "metadata": {},
   "source": [
    "# 00_orientation\n",
    "> Ensuring our DS understanding\n",
    "\n",
    "In this notebook, we document our understanding of the process of creating virtual environments and nbdev."
   ]
  },
  {
   "cell_type": "markdown",
   "metadata": {},
   "source": [
    "# Virtual environments"
   ]
  },
  {
   "cell_type": "markdown",
   "metadata": {},
   "source": [
    "1. What is the name of your virtual environment? "
   ]
  },
  {
   "cell_type": "markdown",
   "metadata": {},
   "source": [
    "2. Why do you think we asked you to create a virtual environment rather than installing nbdev into the base environment? You may need to ask Google for some insight here, but consider that you might be working on several different projects at the same time. What if they require different versions of the same package? "
   ]
  },
  {
   "cell_type": "markdown",
   "metadata": {},
   "source": [
    "3. If nbdev is only in your virtual environment and NOT in your base environment, do you think you’ll be able to use nbdev in your base environment?"
   ]
  },
  {
   "cell_type": "markdown",
   "metadata": {},
   "source": [
    "4. When you use the nbdev command line functions, do you think you need to have your virtual environment with nbdev activated? What do you think will happen if it is NOT activated? "
   ]
  },
  {
   "cell_type": "markdown",
   "metadata": {},
   "source": [
    "# nbdev\n",
    "## Setup"
   ]
  },
  {
   "cell_type": "markdown",
   "metadata": {},
   "source": [
    "1. What fields did you have to fill out in the `settings.ini` file to make sure that `nbdev_clean_nbs` executed successfully? "
   ]
  },
  {
   "cell_type": "markdown",
   "metadata": {},
   "source": [
    "2. What is the purpose of the `settings.ini` file? This doesn’t need to be overly detailed – hint: you can describe for example the relevance of one of the lines and the directory that is created when `nbdev_build_lib` is executed. "
   ]
  },
  {
   "cell_type": "markdown",
   "metadata": {},
   "source": [
    "## Command line functions"
   ]
  },
  {
   "cell_type": "markdown",
   "metadata": {},
   "source": [
    "3. What does `nbdev_clean_nbs` do? Describe briefly in a few words. "
   ]
  },
  {
   "cell_type": "markdown",
   "metadata": {},
   "source": [
    "4. What does `nbdev_build_lib` do? Describe briefly in a few words. "
   ]
  },
  {
   "cell_type": "markdown",
   "metadata": {},
   "source": [
    "5. Consider `nbdev_build_lib` and the git process. After you’ve built your module, what files do you think you should add to git versioning? "
   ]
  },
  {
   "cell_type": "markdown",
   "metadata": {},
   "source": [
    "6. What do you think will happen if you don’t save the changes to your notebook before you run `nbdev_build_lib`?"
   ]
  },
  {
   "cell_type": "markdown",
   "metadata": {},
   "source": [
    "## The built modules"
   ]
  },
  {
   "cell_type": "markdown",
   "metadata": {},
   "source": [
    "1. Inspect the `core.py` file you’ve built. What are the individual parts? If this is a hard question to answer, try to add a new function to your `00_core.ipynb` function and run nbdev_build_lib again. Look once more. "
   ]
  },
  {
   "cell_type": "markdown",
   "metadata": {},
   "source": [
    "2. Inspect the `_nbdev.py` file you’ve built. What are the individual parts – what do they seem to correspond to? "
   ]
  },
  {
   "cell_type": "markdown",
   "metadata": {},
   "source": [
    "3. What does the `# default_exp core` line do? "
   ]
  },
  {
   "cell_type": "markdown",
   "metadata": {},
   "source": [
    "4. What do the `#export` lines do? Are the code cells WITHOUT the `#export` line in them exported to the module? "
   ]
  },
  {
   "cell_type": "markdown",
   "metadata": {},
   "source": [
    "5. The `00_core.ipynb` and the core module essentially have the same name. Why is this? If you wanted to change the name of the core module and have all your cells export to this new module name instead of core, how would you change it? Note that the answer is *not* renaming the `core.py` file in the built directory. "
   ]
  },
  {
   "cell_type": "markdown",
   "metadata": {},
   "source": [
    "## Resolving merge conflicts"
   ]
  },
  {
   "cell_type": "markdown",
   "metadata": {},
   "source": [
    "1. In the Python examples, we resolved merge conflicts using the GitHub interface. How do we do this with Jupyter notebooks and nbdev? Pay special attention to the new steps in the process."
   ]
  },
  {
   "cell_type": "markdown",
   "metadata": {},
   "source": [
    "2. What is the `*.bak` file?"
   ]
  },
  {
   "cell_type": "markdown",
   "metadata": {},
   "source": [
    "3. What was the command line function we used in order to merge notebooks together?"
   ]
  },
  {
   "cell_type": "markdown",
   "metadata": {},
   "source": [
    "4. After running our command line function to merge notebooks, what changes do we make in the notebook to resolve the merge conflicts?"
   ]
  },
  {
   "cell_type": "markdown",
   "metadata": {},
   "source": [
    "## Tests"
   ]
  },
  {
   "cell_type": "markdown",
   "metadata": {},
   "source": [
    "1. Which code cells are tests by default?"
   ]
  },
  {
   "cell_type": "markdown",
   "metadata": {},
   "source": [
    "2. What line did we change in the `settings.ini` file to suppress testing of notebook cells? "
   ]
  },
  {
   "cell_type": "markdown",
   "metadata": {},
   "source": [
    "3. What effect did not suppressing tests have on the GitHub actions?"
   ]
  },
  {
   "cell_type": "markdown",
   "metadata": {},
   "source": [
    "4. What do you do when your tests fail on GitHub Actions?"
   ]
  },
  {
   "cell_type": "markdown",
   "metadata": {},
   "source": [
    "5. How can you go review why your GitHub Actions failed on GitHub?"
   ]
  },
  {
   "cell_type": "markdown",
   "metadata": {},
   "source": [
    "6. Do you have to use GitHub Actions? How do you think you can remove their usage?"
   ]
  }
 ],
 "metadata": {
  "kernelspec": {
   "display_name": "Python 3 (ipykernel)",
   "language": "python",
   "name": "python3"
  }
 },
 "nbformat": 4,
 "nbformat_minor": 4
}
